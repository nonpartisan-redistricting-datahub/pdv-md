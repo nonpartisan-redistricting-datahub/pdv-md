{
 "cells": [
  {
   "cell_type": "code",
   "execution_count": 2,
   "id": "bdc2f821",
   "metadata": {},
   "outputs": [],
   "source": [
    "import pandas as pd # standard python data library\n",
    "import geopandas as gp # the geo-version of pandas\n",
    "import numpy as np \n",
    "import os\n",
    "import fiona\n",
    "from statistics import mean, median\n",
    "from pandas import read_csv\n",
    "gp.io.file.fiona.drvsupport.supported_drivers['KML'] = 'rw' #To load KML files\n",
    "import string\n",
    "import xml.etree.ElementTree as et"
   ]
  },
  {
   "cell_type": "markdown",
   "id": "af3b78ec",
   "metadata": {},
   "source": [
    "# Maryland"
   ]
  },
  {
   "cell_type": "markdown",
   "id": "c041dbfa",
   "metadata": {},
   "source": [
    "## VEST Documentation"
   ]
  },
  {
   "cell_type": "markdown",
   "id": "802c11dc",
   "metadata": {},
   "source": [
    "Maryland\n",
    "--------\n",
    "Election results from Maryland State Board of Elections (https://elections.maryland.gov/elections/2016/election_data/index.html)  \n",
    "Precinct shapefile from Maryland Department of Planning  \n",
    "\n",
    "Early, Provisional, and Absentee votes are reported only at the county level. These votes are apportioned to precincts by candidate in the same shares that the Election Day vote was split among precincts within a county.\n",
    "\n",
    "G16PRERTru - Donald J. Trump (Republican Party)  \n",
    "G16PREDCli - Hillary Clinton (Democratic Party)  \n",
    "G16PRELJoh - Gary Johnson (Libertarian Party)  \n",
    "G16PREGSte - Jill Stein (Green Party)  \n",
    "G16PREOth - Write-in Votes  \n",
    "  \n",
    "G16USSRSze - Kathy Szeliga (Republican Party)  \n",
    "G16USSDVan - Chris Van Hollen (Democratic Party)  \n",
    "G16USSGFlo - Margaret Flowers (Green Party)  \n",
    "G16USSOth - Write-in Votes  \n",
    "\n",
    "G16H01RHar - Andy Harris (Republican Party)  \n",
    "G16H01DWer - Joe Werner (Democratic Party)  \n",
    "G16H01LBee - Matt Beers (Libertarian Party)  \n",
    "G16H01Oth - Write-in Votes  \n",
    "\n",
    "G16H02RMcD - Pat McDonough (Republican Party)  \n",
    "G16H02DRup - C. A. Dutch Ruppersberger (Democratic Party)  \n",
    "G16H02LKas - Kristin S. Kasprzak (Libertarian Party)  \n",
    "G16H02Oth - Write-in Votes  \n",
    "  \n",
    "G16H03RPla - Mark Plaster (Republican Party)  \n",
    "G16H03DSar - John Sarbanes (Democratic Party)  \n",
    "G16H03GEze - Nnabu Eze (Green Party)  \n",
    "G16H03Oth - Write-in Votes  \n",
    "\n",
    "G16H04RMcD - George E. McDermott (Republican Party)  \n",
    "G16H04DBro - Anthony G. Brown (Democratic Party)  \n",
    "G16H04LKra - Benjamin Lee Krause (Libertarian Party)  \n",
    "G16H04GCla - Kamesha T. Clark (Green Party)  \n",
    "G16H04Oth - Write-in Votes  \n",
    "\n",
    "G16H05RArn - Mark Arness (Republican Party)  \n",
    "G16H05DHoy - Steny H. Hoyer (Democratic Party)  \n",
    "G16H05LSum - Jason Summers (Libertarian Party)  \n",
    "G16H05Oth - Write-in Votes  \n",
    "\n",
    "G16H06RHoe - Amie Hoeber (Republican Party)  \n",
    "G16H06DDel - John K. Delaney (Democratic Party)  \n",
    "G16H06LHow - David L. Howser (Libertarian Party)  \n",
    "G16H06GGlu - George Gluck (Green Party)  \n",
    "G16H06Oth - Write-in Votes  \n",
    "\n",
    "G16H07RVau - Corrogan R. Vaughn (Republican Party)  \n",
    "G16H07DCum - Elijah Cummings (Democratic Party)  \n",
    "G16H07GHoe - Myles B. Hoenig (Green Party)  \n",
    "G16H07Oth - Write-in Votes  \n",
    "\n",
    "G16H08RCox - Dan Cox (Republican Party)  \n",
    "G16H08DRas - Jamie Raskin (Democratic Party)  \n",
    "G16H08LWun - Jasen Wunder (Libertarian Party)  \n",
    "G16H08GWal - Nancy Wallace (Green Party)  \n",
    "G16H08Oth - Write-in Votes  "
   ]
  },
  {
   "cell_type": "code",
   "execution_count": 4,
   "id": "ecdb0a61",
   "metadata": {},
   "outputs": [],
   "source": [
    "vest_md_16 = gp.read_file(\"./raw-from-source/VEST/md_2016/md_2016_w_ushouse.shp\")"
   ]
  },
  {
   "cell_type": "code",
   "execution_count": 5,
   "id": "127a382d",
   "metadata": {},
   "outputs": [
    {
     "name": "stderr",
     "output_type": "stream",
     "text": [
      "/Users/peterhorton/opt/anaconda3/envs/geo_env/lib/python3.9/site-packages/IPython/core/interactiveshell.py:3165: DtypeWarning: Columns (8) have mixed types.Specify dtype option on import or set low_memory=False.\n",
      "  has_raised = await self.run_ast_nodes(code_ast.body, cell_name,\n"
     ]
    }
   ],
   "source": [
    "source_elections = pd.read_csv(\"./raw-from-source/Election_Results/All_By_Precinct_2016_General.csv\")"
   ]
  },
  {
   "cell_type": "code",
   "execution_count": 6,
   "id": "1b9608f4",
   "metadata": {},
   "outputs": [
    {
     "name": "stdout",
     "output_type": "stream",
     "text": [
      "   County  Election District  Election Precinct  Cong Legs   Candidate Name  \\\n",
      "0       1                  1                  0     6  01C  Donald J. Trump   \n",
      "1       1                  1                  0     6  01C  Hillary Clinton   \n",
      "2       1                  1                  0     6  01C     Gary Johnson   \n",
      "3       1                  1                  0     6  01C       Jill Stein   \n",
      "4       1                  1                  0     6  01C      Paij Boring   \n",
      "\n",
      "  Party            Office Name Office District Winner Write-In?  \\\n",
      "0   REP  President - Vice Pres             NaN    NaN       NaN   \n",
      "1   DEM  President - Vice Pres             NaN      Y       NaN   \n",
      "2   LIB  President - Vice Pres             NaN    NaN       NaN   \n",
      "3   GRN  President - Vice Pres             NaN    NaN       NaN   \n",
      "4   REP  President - Vice Pres             NaN    NaN         Y   \n",
      "\n",
      "   Election Night Votes  Election Night Votes Against  \n",
      "0                   350                           NaN  \n",
      "1                    43                           NaN  \n",
      "2                     6                           NaN  \n",
      "3                     2                           NaN  \n",
      "4                     0                           NaN  \n"
     ]
    }
   ],
   "source": [
    "print(source_elections.head())"
   ]
  },
  {
   "cell_type": "code",
   "execution_count": null,
   "id": "96450727",
   "metadata": {},
   "outputs": [],
   "source": []
  }
 ],
 "metadata": {
  "kernelspec": {
   "display_name": "Python 3",
   "language": "python",
   "name": "python3"
  },
  "language_info": {
   "codemirror_mode": {
    "name": "ipython",
    "version": 3
   },
   "file_extension": ".py",
   "mimetype": "text/x-python",
   "name": "python",
   "nbconvert_exporter": "python",
   "pygments_lexer": "ipython3",
   "version": "3.9.2"
  }
 },
 "nbformat": 4,
 "nbformat_minor": 5
}
