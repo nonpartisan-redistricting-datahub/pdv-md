{
 "cells": [
  {
   "cell_type": "code",
   "execution_count": 2,
   "id": "db9f1933",
   "metadata": {},
   "outputs": [],
   "source": [
    "import pandas as pd # standard python data library\n",
    "import geopandas as gp # the geo-version of pandas\n",
    "import numpy as np \n",
    "import os\n",
    "import fiona\n",
    "from statistics import mean, median\n",
    "from pandas import read_csv\n",
    "gp.io.file.fiona.drvsupport.supported_drivers['KML'] = 'rw' #To load KML files\n",
    "import string\n",
    "import xml.etree.ElementTree as et"
   ]
  },
  {
   "cell_type": "markdown",
   "id": "f8bd9086",
   "metadata": {},
   "source": [
    "# Maryland"
   ]
  },
  {
   "cell_type": "markdown",
   "id": "5299d4b4",
   "metadata": {},
   "source": [
    "## VEST Documentation"
   ]
  },
  {
   "cell_type": "markdown",
   "id": "988f91ef",
   "metadata": {},
   "source": [
    "Election results from Maryland State Board of Elections (https://elections.maryland.gov/elections/2018/election_data/index.html)  \n",
    "Precinct shapefile from Maryland Department of Planning\n",
    "\n",
    "Early, Provisional, and Absentee votes are reported only at the county level. These votes are apportioned to precincts by candidate in the same shares that the Election Day vote was split among precincts within a county.\n",
    "\n",
    "G18GOVRHOG - Larry Hogan (Republican Party)  \n",
    "G18GOVDJEA - Ben Jealous (Democratic Party)  \n",
    "G18GOVLQUI - Shawn Quinn (Libertarian Party)  \n",
    "G18GOVGSCH - Ian Schlakman (Green Party)  \n",
    "G18GOVOWRI - Write-in Votes  \n",
    "\n",
    "G18COMRPHU - Anjali Reed Phukan (Republican Party)  \n",
    "G18COMDFRA - Peter Franchot (Democratic Party)  \n",
    "G18COMOWRI - Write-in Votes  \n",
    "\n",
    "G18ATGRWOL - Craig Wolf (Republican Party)  \n",
    "G18ATGDFRO - Brian E. Frosh (Democratic Party)  \n",
    "G18ATGOWRI - Write-in Votes  \n",
    "\n",
    "G18USSRCAM - Tony Campbell (Republican Party)  \n",
    "G18USSDCAR - Ben Cardin (Democratic Party)  \n",
    "G18USSLVOH - Arvin Vohra (Libertarian Party)  \n",
    "G18USSISIM - Neal Simon (Unaffiliated)  \n",
    "G18USSOWRI - Write-in Votes  "
   ]
  },
  {
   "cell_type": "code",
   "execution_count": 3,
   "id": "cfa54d97",
   "metadata": {},
   "outputs": [],
   "source": [
    "vest_md_18 = gp.read_file(\"./raw-from-source/VEST/md_2018/md_2018.shp\")"
   ]
  },
  {
   "cell_type": "code",
   "execution_count": 4,
   "id": "ad43715c",
   "metadata": {},
   "outputs": [
    {
     "name": "stderr",
     "output_type": "stream",
     "text": [
      "/Users/peterhorton/opt/anaconda3/envs/geo_env/lib/python3.9/site-packages/IPython/core/interactiveshell.py:3165: DtypeWarning: Columns (11) have mixed types.Specify dtype option on import or set low_memory=False.\n",
      "  has_raised = await self.run_ast_nodes(code_ast.body, cell_name,\n"
     ]
    }
   ],
   "source": [
    "source_elections = pd.read_csv(\"./raw-from-source/Election_Results/All_By_Precinct_2018_General.csv\")"
   ]
  },
  {
   "cell_type": "code",
   "execution_count": 6,
   "id": "1d9e1456",
   "metadata": {},
   "outputs": [
    {
     "name": "stdout",
     "output_type": "stream",
     "text": [
      "        County  Election District  Election Precinct  Cong Legs  \\\n",
      "0            1                  1                  0     6  01C   \n",
      "1            1                  1                  0     6  01C   \n",
      "2            1                  1                  0     6  01C   \n",
      "3            1                  1                  0     6  01C   \n",
      "4            1                  1                  0     6  01C   \n",
      "...        ...                ...                ...   ...  ...   \n",
      "132655      24                  7                  1     1  38C   \n",
      "132656      24                  7                  1     1  38C   \n",
      "132657      24                  7                  1     1  38C   \n",
      "132658      24                  7                  1     1  38C   \n",
      "132659      24                  7                  1     1  38C   \n",
      "\n",
      "         Candidate Name Party              Office Name Office District Winner  \\\n",
      "0           Larry Hogan   REP  Governor / Lt. Governor             NaN      Y   \n",
      "1           Ben Jealous   DEM  Governor / Lt. Governor             NaN    NaN   \n",
      "2           Shawn Quinn   LIB  Governor / Lt. Governor             NaN    NaN   \n",
      "3         Ian Schlakman   GRN  Governor / Lt. Governor             NaN    NaN   \n",
      "4       Other Write-Ins   BOT  Governor / Lt. Governor             NaN    NaN   \n",
      "...                 ...   ...                      ...             ...    ...   \n",
      "132655  Other Write-Ins   BOT      Judge Orphans Court             NaN    NaN   \n",
      "132656  Matt Crisafulli   REP  Sheriff                             NaN      Y   \n",
      "132657  Other Write-Ins   BOT  Sheriff                             NaN    NaN   \n",
      "132658    Todd Ferrante   NON  Board of Education                  007      Y   \n",
      "132659  Other Write-Ins   NON  Board of Education                  007    NaN   \n",
      "\n",
      "       Write-In? Election Night Votes  Election Night Votes Against  \n",
      "0            NaN                  288                           NaN  \n",
      "1            NaN                   23                           NaN  \n",
      "2            NaN                    4                           NaN  \n",
      "3            NaN                    1                           NaN  \n",
      "4              Y                    0                           NaN  \n",
      "...          ...                  ...                           ...  \n",
      "132655         Y                   44                           NaN  \n",
      "132656       NaN                 1875                           NaN  \n",
      "132657         Y                   36                           NaN  \n",
      "132658       NaN                 1803                           NaN  \n",
      "132659         Y                   22                           NaN  \n",
      "\n",
      "[132660 rows x 13 columns]\n"
     ]
    }
   ],
   "source": [
    "print(source_elections)"
   ]
  },
  {
   "cell_type": "code",
   "execution_count": null,
   "id": "658112b6",
   "metadata": {},
   "outputs": [],
   "source": []
  }
 ],
 "metadata": {
  "kernelspec": {
   "display_name": "Python 3",
   "language": "python",
   "name": "python3"
  },
  "language_info": {
   "codemirror_mode": {
    "name": "ipython",
    "version": 3
   },
   "file_extension": ".py",
   "mimetype": "text/x-python",
   "name": "python",
   "nbconvert_exporter": "python",
   "pygments_lexer": "ipython3",
   "version": "3.9.2"
  }
 },
 "nbformat": 4,
 "nbformat_minor": 5
}
